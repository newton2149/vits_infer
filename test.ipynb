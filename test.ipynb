{
 "cells": [
  {
   "cell_type": "code",
   "execution_count": 1,
   "metadata": {},
   "outputs": [],
   "source": [
    "import requests\n",
    "\n",
    "def download_file_from_firebase_storage(download_url, output_file_path):\n",
    "    response = requests.get(download_url)\n",
    "    if response.status_code == 200:\n",
    "        with open(output_file_path, 'wb') as f:\n",
    "            f.write(response.content)\n",
    "        print(\"File downloaded successfully.\")\n",
    "    else:\n",
    "        print(f\"Failed to download file. Status code: {response.status_code}\")"
   ]
  },
  {
   "cell_type": "code",
   "execution_count": 2,
   "metadata": {},
   "outputs": [
    {
     "name": "stdout",
     "output_type": "stream",
     "text": [
      "File downloaded successfully.\n"
     ]
    }
   ],
   "source": [
    "local = \"./temp_db/ljspeech.zip\"\n",
    "\n",
    "sentence = \"https://firebasestorage.googleapis.com/v0/b/intenrship-e76b3.appspot.com/o/test-zip.zip?alt=media&token=2279f00f-0007-4895-b891-3654770c4631\"\n",
    "\n",
    "url_zip = sentence\n",
    "\n",
    "#get zip file\n",
    "download_file_from_firebase_storage(url_zip, local)"
   ]
  },
  {
   "cell_type": "code",
   "execution_count": 1,
   "metadata": {},
   "outputs": [],
   "source": [
    "texte = [\n",
    "    \"Dans une petite ville au bord de la mer, il y avait une vieille maison en bois abandonnée depuis des années.\",\n",
    "    \"Les fenêtres étaient cassées, les volets battaient au vent et la végétation avait envahi le jardin.\",\n",
    "    \"Pourtant, malgré son apparence délabrée, cette maison avait une histoire fascinante.\",\n",
    "    \"Jadis, elle avait été le refuge d'un célèbre écrivain en quête d'inspiration.\",\n",
    "    \"Les habitants racontaient que des nuits entières, on pouvait entendre le cliquetis de sa machine à écrire résonner à travers les murs.\",\n",
    "    \"À mesure que les années passaient, la maison était devenue un lieu de légendes et de mystères pour les enfants du quartier.\",\n",
    "    \"Certains osaient s'aventurer à l'intérieur, bravant les interdits pour découvrir les secrets cachés dans ses recoins sombres.\",\n",
    "    \"Mais peu osaient y rester longtemps, effrayés par les bruits étranges et les ombres qui semblaient prendre vie dans l'obscurité.\",\n",
    "    \"Aujourd'hui, la vieille maison reste là, témoin silencieux du temps qui passe.\",\n",
    "    \"Les histoires qu'elle renferme continuent de captiver l'imagination de ceux qui passent devant ses murs décrépits.\",\n",
    "    \"Et bien que personne n'ose y vivre à nouveau, elle demeure un symbole de la puissance des mots et de l'éternelle quête de créativité.\"\n",
    "]\n",
    "\n",
    "# Writing the text into a file\n",
    "with open(\"french_text.txt\", \"w\") as file:\n",
    "    for phrase in texte:\n",
    "        file.write(phrase + \"\\n\")"
   ]
  },
  {
   "cell_type": "code",
   "execution_count": 2,
   "metadata": {},
   "outputs": [],
   "source": [
    "texte = [\n",
    "    \"Mu mujyi mwiza w’u Rwanda, hari igiti cy’umuryango utagiraga amazi arava, ubu bwite uwo muryango wayobowe n’umukuru w’ishyamba rikomeye uyu niwo wazanye igiti mu buryo butagira ubumwe.\",\n",
    "    \"Igiti cyazanywe n’umugabo we mu bintu by’urukundo, kandi abana babo bakomeye bakaba baragaruka mu buryo butagira ubumwe. Umwana wa mbere bwa gatanu utuye kuri mw’ijoro, mu buryo butagira ubumwe, urugo rukwiye kuba rurambye.\",\n",
    "    \"Nk’uko byari bisanzwe, nta giti kikagira ibibazo bikomeye cyane. Kubera iyi niyo mpamvu, habaga izina ribi: Nyiranyamibwa.\",\n",
    "    \"Nyiranyamibwa yari ituruka mu bwami bw’Abami babaga, ariko yabaga akwiye kuba nyampinga kuko yari afite ibyishimo byiza, naho cyane cyane, yari yarahagurukiye igiti cye.\",\n",
    "    \"Igiti cyari kigizwe ku mutima w’umutwe w’ijuru, igiti cy’abatindi mu bwami bw’Abami babaga. Kuko kuri uyu munsi, umuryango w’Abami babaga wayobowe n’Umukuru w’ishyamba rikomeye uyu niwo wazanye igiti, n’ubu bwite habaga igihugu cyacu cya Rwanda.\"\n",
    "]\n",
    "\n",
    "# Writing the text into a file\n",
    "with open(\"kinyarwanda_text.txt\", \"w\") as file:\n",
    "    for phrase in texte:\n",
    "        file.write(phrase + \"\\n\")\n"
   ]
  },
  {
   "cell_type": "code",
   "execution_count": 1,
   "metadata": {},
   "outputs": [],
   "source": [
    "a = [1,2,3,4]\n",
    "a.append(None)"
   ]
  },
  {
   "cell_type": "code",
   "execution_count": 2,
   "metadata": {},
   "outputs": [
    {
     "data": {
      "text/plain": [
       "[1, 2, 3, 4, None]"
      ]
     },
     "execution_count": 2,
     "metadata": {},
     "output_type": "execute_result"
    }
   ],
   "source": [
    "a"
   ]
  },
  {
   "cell_type": "code",
   "execution_count": null,
   "metadata": {},
   "outputs": [],
   "source": []
  }
 ],
 "metadata": {
  "kernelspec": {
   "display_name": "vits",
   "language": "python",
   "name": "python3"
  },
  "language_info": {
   "codemirror_mode": {
    "name": "ipython",
    "version": 3
   },
   "file_extension": ".py",
   "mimetype": "text/x-python",
   "name": "python",
   "nbconvert_exporter": "python",
   "pygments_lexer": "ipython3",
   "version": "3.10.13"
  }
 },
 "nbformat": 4,
 "nbformat_minor": 2
}
