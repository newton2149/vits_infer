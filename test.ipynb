{
 "cells": [
  {
   "cell_type": "code",
   "execution_count": 49,
   "metadata": {},
   "outputs": [],
   "source": [
    "import zipfile\n",
    "import os\n",
    "\n",
    "\n",
    "def extract_zip(zip_file_path, extract_to='inference_db'):\n",
    "    with zipfile.ZipFile(zip_file_path, 'r') as zip_ref:\n",
    "\n",
    "        os.makedirs(extract_to, exist_ok=True)\n",
    "        zip_ref.extractall(extract_to)\n",
    "\n",
    "        return os.path.join(extract_to, zip_ref.namelist()[0])\n",
    "\n",
    "\n",
    "def read_text_files(extract_to):\n",
    "    for file in os.listdir(extract_to):\n",
    "        with open(os.path.join(extract_to, file), 'r') as f:\n",
    "            file_lines = f.readlines()\n",
    "            return file_lines"
   ]
  },
  {
   "cell_type": "code",
   "execution_count": 50,
   "metadata": {},
   "outputs": [
    {
     "name": "stdout",
     "output_type": "stream",
     "text": [
      "/home/navneeth/EgoPro/dnn/vits_infer/test_text.zip\n",
      "inference_db/test_text/\n"
     ]
    }
   ],
   "source": [
    "url_zip = \"/home/navneeth/EgoPro/dnn/vits_infer/test_text.zip\"\n",
    "print(url_zip)\n",
    "\n",
    "#get zip file\n",
    "path = extract_zip(url_zip)\n",
    "print(path)\n",
    "file_lines = read_text_files(f\"./{path}\")\n",
    "\n"
   ]
  },
  {
   "cell_type": "code",
   "execution_count": 51,
   "metadata": {},
   "outputs": [
    {
     "data": {
      "text/plain": [
       "['hello my name is navneeth']"
      ]
     },
     "execution_count": 51,
     "metadata": {},
     "output_type": "execute_result"
    }
   ],
   "source": [
    "file_lines"
   ]
  },
  {
   "cell_type": "code",
   "execution_count": null,
   "metadata": {},
   "outputs": [],
   "source": []
  }
 ],
 "metadata": {
  "kernelspec": {
   "display_name": "vits",
   "language": "python",
   "name": "python3"
  },
  "language_info": {
   "codemirror_mode": {
    "name": "ipython",
    "version": 3
   },
   "file_extension": ".py",
   "mimetype": "text/x-python",
   "name": "python",
   "nbconvert_exporter": "python",
   "pygments_lexer": "ipython3",
   "version": "3.10.13"
  }
 },
 "nbformat": 4,
 "nbformat_minor": 2
}
