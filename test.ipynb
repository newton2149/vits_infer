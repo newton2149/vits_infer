{
 "cells": [
  {
   "cell_type": "code",
   "execution_count": 1,
   "metadata": {},
   "outputs": [],
   "source": [
    "import requests\n",
    "\n",
    "def download_file_from_firebase_storage(download_url, output_file_path):\n",
    "    response = requests.get(download_url)\n",
    "    if response.status_code == 200:\n",
    "        with open(output_file_path, 'wb') as f:\n",
    "            f.write(response.content)\n",
    "        print(\"File downloaded successfully.\")\n",
    "    else:\n",
    "        print(f\"Failed to download file. Status code: {response.status_code}\")"
   ]
  },
  {
   "cell_type": "code",
   "execution_count": 2,
   "metadata": {},
   "outputs": [
    {
     "name": "stdout",
     "output_type": "stream",
     "text": [
      "File downloaded successfully.\n"
     ]
    }
   ],
   "source": [
    "local = \"./temp_db/ljspeech.zip\"\n",
    "\n",
    "sentence = \"https://firebasestorage.googleapis.com/v0/b/intenrship-e76b3.appspot.com/o/test-zip.zip?alt=media&token=2279f00f-0007-4895-b891-3654770c4631\"\n",
    "\n",
    "url_zip = sentence\n",
    "\n",
    "#get zip file\n",
    "download_file_from_firebase_storage(url_zip, local)"
   ]
  },
  {
   "cell_type": "code",
   "execution_count": null,
   "metadata": {},
   "outputs": [],
   "source": []
  }
 ],
 "metadata": {
  "kernelspec": {
   "display_name": "vits",
   "language": "python",
   "name": "python3"
  },
  "language_info": {
   "codemirror_mode": {
    "name": "ipython",
    "version": 3
   },
   "file_extension": ".py",
   "mimetype": "text/x-python",
   "name": "python",
   "nbconvert_exporter": "python",
   "pygments_lexer": "ipython3",
   "version": "3.10.13"
  }
 },
 "nbformat": 4,
 "nbformat_minor": 2
}
